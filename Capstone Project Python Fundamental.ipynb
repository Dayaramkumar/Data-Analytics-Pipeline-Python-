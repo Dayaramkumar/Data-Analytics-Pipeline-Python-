{
 "cells": [
  {
   "cell_type": "code",
   "execution_count": 2,
   "metadata": {},
   "outputs": [],
   "source": [
    "#TASK 1\n",
    "import pandas as pd"
   ]
  },
  {
   "cell_type": "code",
   "execution_count": 2,
   "metadata": {},
   "outputs": [],
   "source": [
    "#Creating dataframe\n",
    "Project_Dataframe={\n",
    "    \"ID\":['A001','A002','A003','A004','A005','A002','A005','A003','A001','A003','A001','A004','A004','A005'],\n",
    "    \"Project\":['Project 1','Project 2','Project 3', 'Project 4', 'Project 5', 'Project 6', 'Project 7', 'Project 8','Project 9', 'Project 10',\n",
    "               'Project 11', 'Project 12', 'Project 13', 'Project 14'],\n",
    "    \"Cost\":['1002000','2000000','4500000','5500000',' ','680000','400000','350000',' ','300000','2000000','1000000','3000000',\n",
    "            '200000'],\n",
    "    \"Status\":['Finished','Ongoing','Finished','Ongoing','Finished','Failed','Finished','Failed','Ongoing','Finished','Failed',\n",
    "              'Ongoing','Finished','Finished']\n",
    "}"
   ]
  },
  {
   "cell_type": "code",
   "execution_count": 3,
   "metadata": {},
   "outputs": [
    {
     "name": "stdout",
     "output_type": "stream",
     "text": [
      "{'ID': ['A001', 'A002', 'A003', 'A004', 'A005', 'A002', 'A005', 'A003', 'A001', 'A003', 'A001', 'A004', 'A004', 'A005'], 'Project': ['Project 1', 'Project 2', 'Project 3', 'Project 4', 'Project 5', 'Project 6', 'Project 7', 'Project 8', 'Project 9', 'Project 10', 'Project 11', 'Project 12', 'Project 13', 'Project 14'], 'Cost': ['1002000', '2000000', '4500000', '5500000', ' ', '680000', '400000', '350000', ' ', '300000', '2000000', '1000000', '3000000', '200000'], 'Status': ['Finished', 'Ongoing', 'Finished', 'Ongoing', 'Finished', 'Failed', 'Finished', 'Failed', 'Ongoing', 'Finished', 'Failed', 'Ongoing', 'Finished', 'Finished']}\n"
     ]
    }
   ],
   "source": [
    "#Checking\n",
    "print(Project_Dataframe)"
   ]
  },
  {
   "cell_type": "code",
   "execution_count": 4,
   "metadata": {},
   "outputs": [],
   "source": [
    "#Converting into pandas dataframe\n",
    "df=pd.DataFrame(Project_Dataframe)"
   ]
  },
  {
   "cell_type": "code",
   "execution_count": 5,
   "metadata": {},
   "outputs": [
    {
     "name": "stdout",
     "output_type": "stream",
     "text": [
      "      ID     Project     Cost    Status\n",
      "0   A001   Project 1  1002000  Finished\n",
      "1   A002   Project 2  2000000   Ongoing\n",
      "2   A003   Project 3  4500000  Finished\n",
      "3   A004   Project 4  5500000   Ongoing\n",
      "4   A005   Project 5           Finished\n",
      "5   A002   Project 6   680000    Failed\n",
      "6   A005   Project 7   400000  Finished\n",
      "7   A003   Project 8   350000    Failed\n",
      "8   A001   Project 9            Ongoing\n",
      "9   A003  Project 10   300000  Finished\n",
      "10  A001  Project 11  2000000    Failed\n",
      "11  A004  Project 12  1000000   Ongoing\n",
      "12  A004  Project 13  3000000  Finished\n",
      "13  A005  Project 14   200000  Finished\n"
     ]
    }
   ],
   "source": [
    "#Checking\n",
    "print(df)"
   ]
  },
  {
   "cell_type": "code",
   "execution_count": 6,
   "metadata": {
    "scrolled": true
   },
   "outputs": [],
   "source": [
    "#Saving to csv\n",
    "f=open(\"Project_Dataframe.csv\",\"w\")\n",
    "df.to_csv('Project_Dataframe.csv',index=False)"
   ]
  },
  {
   "cell_type": "code",
   "execution_count": 7,
   "metadata": {},
   "outputs": [
    {
     "name": "stdout",
     "output_type": "stream",
     "text": [
      "      ID     Project     Cost    Status\n",
      "0   A001   Project 1  1002000  Finished\n",
      "1   A002   Project 2  2000000   Ongoing\n",
      "2   A003   Project 3  4500000  Finished\n",
      "3   A004   Project 4  5500000   Ongoing\n",
      "4   A005   Project 5           Finished\n",
      "5   A002   Project 6   680000    Failed\n",
      "6   A005   Project 7   400000  Finished\n",
      "7   A003   Project 8   350000    Failed\n",
      "8   A001   Project 9            Ongoing\n",
      "9   A003  Project 10   300000  Finished\n",
      "10  A001  Project 11  2000000    Failed\n",
      "11  A004  Project 12  1000000   Ongoing\n",
      "12  A004  Project 13  3000000  Finished\n",
      "13  A005  Project 14   200000  Finished\n"
     ]
    }
   ],
   "source": [
    "#Checking\n",
    "print(df)"
   ]
  },
  {
   "cell_type": "code",
   "execution_count": 4,
   "metadata": {},
   "outputs": [
    {
     "name": "stdout",
     "output_type": "stream",
     "text": [
      "     ID             Name Gender     City  Age\n",
      "0  A001       John Alter      M    Paris   25\n",
      "1  A002  Alice Luxumberg      F   London   27\n",
      "2  A003    Tom Sabestine      M   Berlin   29\n",
      "3  A004       Nina Adgra      F  Newyork   31\n",
      "4  A005        Amy Johny      F   Madrid   30\n"
     ]
    }
   ],
   "source": [
    "#Creating Employee data frame\n",
    "Employee_Dataframe={\"ID\":['A001','A002','A003','A004','A005'],\n",
    "                   \"Name\":['John Alter','Alice Luxumberg','Tom Sabestine','Nina Adgra','Amy Johny'],\n",
    "                   \"Gender\":['M','F','M','F','F'],\n",
    "                   \"City\":['Paris','London','Berlin','Newyork','Madrid'],\n",
    "                   \"Age\":[25,27,29,31,30]}\n",
    "\n",
    "#Converting into pandas data frame\n",
    "df1=pd.DataFrame(Employee_Dataframe)\n",
    "\n",
    "#Checking\n",
    "print(df1)"
   ]
  },
  {
   "cell_type": "code",
   "execution_count": 11,
   "metadata": {},
   "outputs": [],
   "source": [
    "#Saving to csv format\n",
    "df1.to_csv('Employee_Dataframe.csv',index=False)"
   ]
  },
  {
   "cell_type": "code",
   "execution_count": 12,
   "metadata": {},
   "outputs": [
    {
     "name": "stdout",
     "output_type": "stream",
     "text": [
      "     ID             Name Gender     City  Age\n",
      "0  A001       John Alter      M    Paris   25\n",
      "1  A002  Alice Luxumberg      F   London   27\n",
      "2  A003    Tom Sabestine      M   Berlin   29\n",
      "3  A004       Nina Adgra      F  Newyork   31\n",
      "4  A005        Amy Johny      F   Madrid   30\n"
     ]
    }
   ],
   "source": [
    "#Checking\n",
    "print(pd.read_csv('Employee_Dataframe.csv'))"
   ]
  },
  {
   "cell_type": "code",
   "execution_count": 13,
   "metadata": {},
   "outputs": [
    {
     "name": "stdout",
     "output_type": "stream",
     "text": [
      "     ID  Designation Level\n",
      "0  A001                  2\n",
      "1  A002                  2\n",
      "2  A003                  3\n",
      "3  A004                  2\n",
      "4  A005                  3\n"
     ]
    }
   ],
   "source": [
    "#Creating Seniority_level_Dataframe\n",
    "\n",
    "Seniority_level_Dataframe={\"ID\":['A001','A002','A003','A004','A005'],\n",
    "                          \"Designation Level\":[2,2,3,2,3]}\n",
    "df2=pd.DataFrame(Seniority_level_Dataframe)\n",
    "df2.to_csv('Seniority_level_Dataframe.csv',index=False)\n",
    "print(df2)"
   ]
  },
  {
   "cell_type": "code",
   "execution_count": 14,
   "metadata": {},
   "outputs": [
    {
     "name": "stdout",
     "output_type": "stream",
     "text": [
      "      ID     Project     Cost    Status\n",
      "0   A001   Project 1  1002000  Finished\n",
      "1   A002   Project 2  2000000   Ongoing\n",
      "2   A003   Project 3  4500000  Finished\n",
      "3   A004   Project 4  5500000   Ongoing\n",
      "4   A005   Project 5           Finished\n",
      "5   A002   Project 6   680000    Failed\n",
      "6   A005   Project 7   400000  Finished\n",
      "7   A003   Project 8   350000    Failed\n",
      "8   A001   Project 9            Ongoing\n",
      "9   A003  Project 10   300000  Finished\n",
      "10  A001  Project 11  2000000    Failed\n",
      "11  A004  Project 12  1000000   Ongoing\n",
      "12  A004  Project 13  3000000  Finished\n",
      "13  A005  Project 14   200000  Finished\n",
      "     ID             Name Gender     City  Age\n",
      "0  A001       John Alter      M    Paris   25\n",
      "1  A002  Alice Luxumberg      F   London   27\n",
      "2  A003    Tom Sabestine      M   Berlin   29\n",
      "3  A004       Nina Adgra      F  Newyork   31\n",
      "4  A005        Amy Johny      F   Madrid   30\n",
      "     ID  Designation Level\n",
      "0  A001                  2\n",
      "1  A002                  2\n",
      "2  A003                  3\n",
      "3  A004                  2\n",
      "4  A005                  3\n"
     ]
    }
   ],
   "source": [
    "#Checking All\n",
    "print(df)\n",
    "print(df1)\n",
    "print(df2)"
   ]
  },
  {
   "cell_type": "code",
   "execution_count": 15,
   "metadata": {},
   "outputs": [],
   "source": [
    "#TASK 2\n",
    "\n",
    "\n",
    "import csv\n",
    "file = 'Project_Dataframe.csv'\n",
    "column_to_edit='Cost'\n",
    "\n",
    "#read the data from csv\n",
    "with open(file,'r') as f:\n",
    "    reader = csv.DictReader(f)\n",
    "    rows=list(reader)\n",
    "    \n",
    "#computing average of non empty cells\n",
    "total=0\n",
    "count=0\n",
    "\n",
    "for row in rows:\n",
    "    value =row[column_to_edit]\n",
    "    if value.strip() != '':\n",
    "        total +=float(value)\n",
    "        count +=1\n",
    "\n",
    "average=round(total/count,2) if count>0 else 0\n",
    "\n",
    "#Replace empty values in the target column with the average\n",
    "for row in rows:\n",
    "    if row[column_to_edit].strip() == '':\n",
    "        row[column_to_edit] = str(average)\n",
    "        \n",
    "#Write updated data back to the CSV\n",
    "with open('updated_' + file, 'w', newline='') as f:\n",
    "    writer = csv.DictWriter(f, fieldnames=rows[0].keys())\n",
    "    writer.writeheader()\n",
    "    writer.writerows(rows)"
   ]
  },
  {
   "cell_type": "code",
   "execution_count": 16,
   "metadata": {},
   "outputs": [
    {
     "name": "stdout",
     "output_type": "stream",
     "text": [
      "      ID     Project        Cost    Status\n",
      "0   A001   Project 1  1002000.00  Finished\n",
      "1   A002   Project 2  2000000.00   Ongoing\n",
      "2   A003   Project 3  4500000.00  Finished\n",
      "3   A004   Project 4  5500000.00   Ongoing\n",
      "4   A005   Project 5  1744333.33  Finished\n",
      "5   A002   Project 6   680000.00    Failed\n",
      "6   A005   Project 7   400000.00  Finished\n",
      "7   A003   Project 8   350000.00    Failed\n",
      "8   A001   Project 9  1744333.33   Ongoing\n",
      "9   A003  Project 10   300000.00  Finished\n",
      "10  A001  Project 11  2000000.00    Failed\n",
      "11  A004  Project 12  1000000.00   Ongoing\n",
      "12  A004  Project 13  3000000.00  Finished\n",
      "13  A005  Project 14   200000.00  Finished\n"
     ]
    }
   ],
   "source": [
    "print(pd.read_csv('updated_Project_Dataframe.csv'))"
   ]
  },
  {
   "cell_type": "code",
   "execution_count": 7,
   "metadata": {},
   "outputs": [
    {
     "name": "stdout",
     "output_type": "stream",
     "text": [
      "     ID Gender     City  Age First Name  Last Name\n",
      "0  A001      M    Paris   25       John      Alter\n",
      "1  A002      F   London   27      Alice  Luxumberg\n",
      "2  A003      M   Berlin   29        Tom  Sabestine\n",
      "3  A004      F  Newyork   31       Nina      Adgra\n",
      "4  A005      F   Madrid   30        Amy      Johny\n"
     ]
    }
   ],
   "source": [
    "#TASK 3\n",
    "df1=pd.read_csv('Employee_Dataframe.csv')\n",
    "# Split 'Name' column into two new columns\n",
    "df1[['First Name', 'Last Name']] = df1['Name'].str.split(' ', 1, expand=True)\n",
    "\n",
    "# Drop the original 'Name' column\n",
    "df1.drop(columns=['Name'], inplace=True)\n",
    "\n",
    "# Save the updated DataFrame to a new CSV file\n",
    "df1.to_csv('employee_details_split.csv', index=False)\n",
    "\n",
    "\n",
    "# Display updated DataFrame\n",
    "print(df1)"
   ]
  },
  {
   "cell_type": "code",
   "execution_count": 10,
   "metadata": {},
   "outputs": [
    {
     "name": "stdout",
     "output_type": "stream",
     "text": [
      "Merged DataFrame:\n",
      "      ID     Project        Cost    Status Gender     City  Age First Name  \\\n",
      "0   A001   Project 1  1002000.00  Finished      M    Paris   25       John   \n",
      "1   A001   Project 9  1744333.33   Ongoing      M    Paris   25       John   \n",
      "2   A001  Project 11  2000000.00    Failed      M    Paris   25       John   \n",
      "3   A002   Project 2  2000000.00   Ongoing      F   London   27      Alice   \n",
      "4   A002   Project 6   680000.00    Failed      F   London   27      Alice   \n",
      "5   A003   Project 3  4500000.00  Finished      M   Berlin   29        Tom   \n",
      "6   A003   Project 8   350000.00    Failed      M   Berlin   29        Tom   \n",
      "7   A003  Project 10   300000.00  Finished      M   Berlin   29        Tom   \n",
      "8   A004   Project 4  5500000.00   Ongoing      F  Newyork   31       Nina   \n",
      "9   A004  Project 12  1000000.00   Ongoing      F  Newyork   31       Nina   \n",
      "10  A004  Project 13  3000000.00  Finished      F  Newyork   31       Nina   \n",
      "11  A005   Project 5  1744333.33  Finished      F   Madrid   30        Amy   \n",
      "12  A005   Project 7   400000.00  Finished      F   Madrid   30        Amy   \n",
      "13  A005  Project 14   200000.00  Finished      F   Madrid   30        Amy   \n",
      "\n",
      "    Last Name  Designation Level  \n",
      "0       Alter                  2  \n",
      "1       Alter                  2  \n",
      "2       Alter                  2  \n",
      "3   Luxumberg                  2  \n",
      "4   Luxumberg                  2  \n",
      "5   Sabestine                  3  \n",
      "6   Sabestine                  3  \n",
      "7   Sabestine                  3  \n",
      "8       Adgra                  2  \n",
      "9       Adgra                  2  \n",
      "10      Adgra                  2  \n",
      "11      Johny                  3  \n",
      "12      Johny                  3  \n",
      "13      Johny                  3  \n"
     ]
    }
   ],
   "source": [
    "#TASK 4\n",
    "#Load each CSV into a DataFrame\n",
    "df_project = pd.read_csv('updated_Project_Dataframe.csv')\n",
    "df_employee = pd.read_csv('employee_details_split.csv')\n",
    "df_seniority = pd.read_csv('Seniority_level_Dataframe.csv')\n",
    "\n",
    "#Merge all three DataFrames on the common column 'ID'\n",
    "merged_df = df_project.merge(df_employee, on='ID') \\\n",
    "                      .merge(df_seniority, on='ID')\n",
    "\n",
    "#Save the final merged DataFrame to a new CSV\n",
    "merged_df.to_csv('Final.csv', index=False)\n",
    "\n",
    "#Displays the result\n",
    "print(\"Merged DataFrame:\")\n",
    "print(merged_df)"
   ]
  },
  {
   "cell_type": "code",
   "execution_count": 15,
   "metadata": {},
   "outputs": [
    {
     "name": "stdout",
     "output_type": "stream",
     "text": [
      "Updated DataFrame with Bonus:\n",
      "      ID     Project        Cost    Status Gender     City  Age First Name  \\\n",
      "0   A001   Project 1  1002000.00  Finished      M    Paris   25       John   \n",
      "1   A001   Project 9  1744333.33   Ongoing      M    Paris   25       John   \n",
      "2   A001  Project 11  2000000.00    Failed      M    Paris   25       John   \n",
      "3   A002   Project 2  2000000.00   Ongoing      F   London   27      Alice   \n",
      "4   A002   Project 6   680000.00    Failed      F   London   27      Alice   \n",
      "5   A003   Project 3  4500000.00  Finished      M   Berlin   29        Tom   \n",
      "6   A003   Project 8   350000.00    Failed      M   Berlin   29        Tom   \n",
      "7   A003  Project 10   300000.00  Finished      M   Berlin   29        Tom   \n",
      "8   A004   Project 4  5500000.00   Ongoing      F  Newyork   31       Nina   \n",
      "9   A004  Project 12  1000000.00   Ongoing      F  Newyork   31       Nina   \n",
      "10  A004  Project 13  3000000.00  Finished      F  Newyork   31       Nina   \n",
      "11  A005   Project 5  1744333.33  Finished      F   Madrid   30        Amy   \n",
      "12  A005   Project 7   400000.00  Finished      F   Madrid   30        Amy   \n",
      "13  A005  Project 14   200000.00  Finished      F   Madrid   30        Amy   \n",
      "\n",
      "    Last Name  Designation Level        Bonus  \n",
      "0       Alter                  2   50100.0000  \n",
      "1       Alter                  2       0.0000  \n",
      "2       Alter                  2       0.0000  \n",
      "3   Luxumberg                  2       0.0000  \n",
      "4   Luxumberg                  2       0.0000  \n",
      "5   Sabestine                  3  225000.0000  \n",
      "6   Sabestine                  3       0.0000  \n",
      "7   Sabestine                  3   15000.0000  \n",
      "8       Adgra                  2       0.0000  \n",
      "9       Adgra                  2       0.0000  \n",
      "10      Adgra                  2  150000.0000  \n",
      "11      Johny                  3   87216.6665  \n",
      "12      Johny                  3   20000.0000  \n",
      "13      Johny                  3   10000.0000  \n"
     ]
    }
   ],
   "source": [
    "#TASK 5\n",
    "\n",
    "import pandas as pd\n",
    "\n",
    "# Load the data\n",
    "df_bonus = pd.read_csv('Final.csv')\n",
    "\n",
    "# Calculate Bonus (5% of Project Cost if Project is Finished)\n",
    "\n",
    "df_bonus['Bonus'] = df_bonus.apply(\n",
    "    lambda row: 0.05 * row['Cost'] if str(row.get('Status', '')) == 'Finished' else 0,\n",
    "    axis=1\n",
    ")\n",
    "\n",
    "# Save the updated DataFrame\n",
    "df_bonus.to_csv('merged_employee_with_bonus.csv', index=False)\n",
    "\n",
    "# Display the updated DataFrame\n",
    "print(\"Updated DataFrame with Bonus:\")\n",
    "print(df_bonus)"
   ]
  },
  {
   "cell_type": "code",
   "execution_count": 16,
   "metadata": {},
   "outputs": [
    {
     "name": "stdout",
     "output_type": "stream",
     "text": [
      "Updated file saved as 'final_employee_data.csv'\n"
     ]
    }
   ],
   "source": [
    "#TASK 6\n",
    "import pandas as pd\n",
    "\n",
    "# Load merged data from CSV\n",
    "df = pd.read_csv('merged_employee_with_bonus.csv')\n",
    "\n",
    "# Convert 'Seniority Level' to integer if it's not already\n",
    "df['Designation Level'] = df['Designation Level'].astype(int)\n",
    "\n",
    "# Demote seniority level by 1 where Project Status is 'fail'\n",
    "df.loc[df['Status'].str.lower() == 'failed', 'Designation Level'] -= 1\n",
    "\n",
    "# Remove employees with Seniority Level > 4\n",
    "df = df[df['Designation Level'] <= 4]\n",
    "\n",
    "# Save the updated DataFrame to a new CSV\n",
    "df.to_csv('final_employee_data.csv', index=False)\n",
    "\n",
    "print(\"Updated file saved as 'final_employee_data.csv'\")\n"
   ]
  },
  {
   "cell_type": "code",
   "execution_count": 17,
   "metadata": {},
   "outputs": [
    {
     "name": "stdout",
     "output_type": "stream",
     "text": [
      "      ID     Project        Cost    Status Gender     City  Age First Name  \\\n",
      "0   A001   Project 1  1002000.00  Finished      M    Paris   25       John   \n",
      "1   A001   Project 9  1744333.33   Ongoing      M    Paris   25       John   \n",
      "2   A001  Project 11  2000000.00    Failed      M    Paris   25       John   \n",
      "3   A002   Project 2  2000000.00   Ongoing      F   London   27      Alice   \n",
      "4   A002   Project 6   680000.00    Failed      F   London   27      Alice   \n",
      "5   A003   Project 3  4500000.00  Finished      M   Berlin   29        Tom   \n",
      "6   A003   Project 8   350000.00    Failed      M   Berlin   29        Tom   \n",
      "7   A003  Project 10   300000.00  Finished      M   Berlin   29        Tom   \n",
      "8   A004   Project 4  5500000.00   Ongoing      F  Newyork   31       Nina   \n",
      "9   A004  Project 12  1000000.00   Ongoing      F  Newyork   31       Nina   \n",
      "10  A004  Project 13  3000000.00  Finished      F  Newyork   31       Nina   \n",
      "11  A005   Project 5  1744333.33  Finished      F   Madrid   30        Amy   \n",
      "12  A005   Project 7   400000.00  Finished      F   Madrid   30        Amy   \n",
      "13  A005  Project 14   200000.00  Finished      F   Madrid   30        Amy   \n",
      "\n",
      "    Last Name  Designation Level        Bonus  \n",
      "0       Alter                  2   50100.0000  \n",
      "1       Alter                  2       0.0000  \n",
      "2       Alter                  1       0.0000  \n",
      "3   Luxumberg                  2       0.0000  \n",
      "4   Luxumberg                  1       0.0000  \n",
      "5   Sabestine                  3  225000.0000  \n",
      "6   Sabestine                  2       0.0000  \n",
      "7   Sabestine                  3   15000.0000  \n",
      "8       Adgra                  2       0.0000  \n",
      "9       Adgra                  2       0.0000  \n",
      "10      Adgra                  2  150000.0000  \n",
      "11      Johny                  3   87216.6665  \n",
      "12      Johny                  3   20000.0000  \n",
      "13      Johny                  3   10000.0000  \n"
     ]
    }
   ],
   "source": [
    "print(pd.read_csv('final_employee_data.csv'))"
   ]
  },
  {
   "cell_type": "code",
   "execution_count": 18,
   "metadata": {},
   "outputs": [],
   "source": [
    "#TASK 7\n",
    "\n",
    "import pandas as pd\n",
    "\n",
    "# Load the CSV\n",
    "df = pd.read_csv('final_employee_data.csv')\n",
    "\n",
    "# Add prefix to First Name based on Gender\n",
    "df['First Name'] = df.apply(\n",
    "    lambda row: 'Mr. ' + row['First Name'] if row['Gender'] == 'M' \n",
    "    else 'Mrs. ' + row['First Name'], \n",
    "    axis=1\n",
    ")\n",
    "\n",
    "# Drop the Gender column\n",
    "df.drop(columns=['Gender'], inplace=True)\n",
    "\n",
    "# Save the updated DataFrame to a new CSV\n",
    "df.to_csv('final_employee_data_with_titles.csv', index=False)"
   ]
  },
  {
   "cell_type": "code",
   "execution_count": 19,
   "metadata": {},
   "outputs": [
    {
     "name": "stdout",
     "output_type": "stream",
     "text": [
      "      ID     Project        Cost    Status     City  Age  First Name  \\\n",
      "0   A001   Project 1  1002000.00  Finished    Paris   25    Mr. John   \n",
      "1   A001   Project 9  1744333.33   Ongoing    Paris   25    Mr. John   \n",
      "2   A001  Project 11  2000000.00    Failed    Paris   25    Mr. John   \n",
      "3   A002   Project 2  2000000.00   Ongoing   London   27  Mrs. Alice   \n",
      "4   A002   Project 6   680000.00    Failed   London   27  Mrs. Alice   \n",
      "5   A003   Project 3  4500000.00  Finished   Berlin   29     Mr. Tom   \n",
      "6   A003   Project 8   350000.00    Failed   Berlin   29     Mr. Tom   \n",
      "7   A003  Project 10   300000.00  Finished   Berlin   29     Mr. Tom   \n",
      "8   A004   Project 4  5500000.00   Ongoing  Newyork   31   Mrs. Nina   \n",
      "9   A004  Project 12  1000000.00   Ongoing  Newyork   31   Mrs. Nina   \n",
      "10  A004  Project 13  3000000.00  Finished  Newyork   31   Mrs. Nina   \n",
      "11  A005   Project 5  1744333.33  Finished   Madrid   30    Mrs. Amy   \n",
      "12  A005   Project 7   400000.00  Finished   Madrid   30    Mrs. Amy   \n",
      "13  A005  Project 14   200000.00  Finished   Madrid   30    Mrs. Amy   \n",
      "\n",
      "    Last Name  Designation Level        Bonus  \n",
      "0       Alter                  2   50100.0000  \n",
      "1       Alter                  2       0.0000  \n",
      "2       Alter                  1       0.0000  \n",
      "3   Luxumberg                  2       0.0000  \n",
      "4   Luxumberg                  1       0.0000  \n",
      "5   Sabestine                  3  225000.0000  \n",
      "6   Sabestine                  2       0.0000  \n",
      "7   Sabestine                  3   15000.0000  \n",
      "8       Adgra                  2       0.0000  \n",
      "9       Adgra                  2       0.0000  \n",
      "10      Adgra                  2  150000.0000  \n",
      "11      Johny                  3   87216.6665  \n",
      "12      Johny                  3   20000.0000  \n",
      "13      Johny                  3   10000.0000  \n"
     ]
    }
   ],
   "source": [
    "print(pd.read_csv('final_employee_data_with_titles.csv'))"
   ]
  },
  {
   "cell_type": "code",
   "execution_count": 20,
   "metadata": {},
   "outputs": [
    {
     "name": "stdout",
     "output_type": "stream",
     "text": [
      "Designation levels promoted for employees older than 29. Saved as 'final_employee_data_promoted.csv'\n"
     ]
    }
   ],
   "source": [
    "#TASK 8\n",
    "import pandas as pd\n",
    "\n",
    "# Load the CSV file\n",
    "df = pd.read_csv('final_employee_data_with_titles.csv')\n",
    "\n",
    "# Promote Seniority Level by 1 if Age > 29\n",
    "df['Designation Level'] = df.apply(\n",
    "    lambda row: row['Designation Level'] + 1 if row['Age'] > 29 else row['Designation Level'], axis=1\n",
    ")\n",
    "\n",
    "# Save the updated DataFrame to a new CSV file\n",
    "df.to_csv('final_employee_data_promoted.csv', index=False)\n",
    "\n",
    "print(\"Designation levels promoted for employees older than 29. Saved as 'final_employee_data_promoted.csv'\")\n"
   ]
  },
  {
   "cell_type": "code",
   "execution_count": 21,
   "metadata": {},
   "outputs": [
    {
     "name": "stdout",
     "output_type": "stream",
     "text": [
      "      ID     Project        Cost    Status     City  Age  First Name  \\\n",
      "0   A001   Project 1  1002000.00  Finished    Paris   25    Mr. John   \n",
      "1   A001   Project 9  1744333.33   Ongoing    Paris   25    Mr. John   \n",
      "2   A001  Project 11  2000000.00    Failed    Paris   25    Mr. John   \n",
      "3   A002   Project 2  2000000.00   Ongoing   London   27  Mrs. Alice   \n",
      "4   A002   Project 6   680000.00    Failed   London   27  Mrs. Alice   \n",
      "5   A003   Project 3  4500000.00  Finished   Berlin   29     Mr. Tom   \n",
      "6   A003   Project 8   350000.00    Failed   Berlin   29     Mr. Tom   \n",
      "7   A003  Project 10   300000.00  Finished   Berlin   29     Mr. Tom   \n",
      "8   A004   Project 4  5500000.00   Ongoing  Newyork   31   Mrs. Nina   \n",
      "9   A004  Project 12  1000000.00   Ongoing  Newyork   31   Mrs. Nina   \n",
      "10  A004  Project 13  3000000.00  Finished  Newyork   31   Mrs. Nina   \n",
      "11  A005   Project 5  1744333.33  Finished   Madrid   30    Mrs. Amy   \n",
      "12  A005   Project 7   400000.00  Finished   Madrid   30    Mrs. Amy   \n",
      "13  A005  Project 14   200000.00  Finished   Madrid   30    Mrs. Amy   \n",
      "\n",
      "    Last Name  Designation Level        Bonus  \n",
      "0       Alter                  2   50100.0000  \n",
      "1       Alter                  2       0.0000  \n",
      "2       Alter                  1       0.0000  \n",
      "3   Luxumberg                  2       0.0000  \n",
      "4   Luxumberg                  1       0.0000  \n",
      "5   Sabestine                  3  225000.0000  \n",
      "6   Sabestine                  2       0.0000  \n",
      "7   Sabestine                  3   15000.0000  \n",
      "8       Adgra                  3       0.0000  \n",
      "9       Adgra                  3       0.0000  \n",
      "10      Adgra                  3  150000.0000  \n",
      "11      Johny                  4   87216.6665  \n",
      "12      Johny                  4   20000.0000  \n",
      "13      Johny                  4   10000.0000  \n"
     ]
    }
   ],
   "source": [
    "print(pd.read_csv('final_employee_data_promoted.csv'))"
   ]
  },
  {
   "cell_type": "code",
   "execution_count": 22,
   "metadata": {},
   "outputs": [
    {
     "name": "stdout",
     "output_type": "stream",
     "text": [
      "     ID  First Name  Total cost\n",
      "0  A001    Mr. John  4746333.33\n",
      "1  A002  Mrs. Alice  2680000.00\n",
      "2  A003     Mr. Tom  5150000.00\n",
      "3  A004   Mrs. Nina  9500000.00\n",
      "4  A005    Mrs. Amy  2344333.33\n"
     ]
    }
   ],
   "source": [
    "#TASK 9\n",
    "\n",
    "import pandas as pd\n",
    "\n",
    "# Load your merged CSV\n",
    "df = pd.read_csv('final_employee_data_promoted.csv')\n",
    "\n",
    "# Group by 'ID' and 'First Name', then sum the 'Cost'\n",
    "total_proj_cost = df.groupby(['ID', 'First Name'], as_index=False)['Cost'].sum()\n",
    "\n",
    "# Rename the summed column to 'Total cost'\n",
    "total_proj_cost.rename(columns={'Cost': 'Total cost'}, inplace=True)\n",
    "\n",
    "# Save to a new CSV if needed\n",
    "total_proj_cost.to_csv('TotalProjCost.csv', index=False)\n",
    "\n",
    "print(total_proj_cost)\n"
   ]
  },
  {
   "cell_type": "code",
   "execution_count": 23,
   "metadata": {},
   "outputs": [
    {
     "name": "stdout",
     "output_type": "stream",
     "text": [
      "Employees from cities containing the letter 'o':\n",
      "      ID     Project       Cost    Status     City  Age  First Name  \\\n",
      "3   A002   Project 2  2000000.0   Ongoing   London   27  Mrs. Alice   \n",
      "4   A002   Project 6   680000.0    Failed   London   27  Mrs. Alice   \n",
      "8   A004   Project 4  5500000.0   Ongoing  Newyork   31   Mrs. Nina   \n",
      "9   A004  Project 12  1000000.0   Ongoing  Newyork   31   Mrs. Nina   \n",
      "10  A004  Project 13  3000000.0  Finished  Newyork   31   Mrs. Nina   \n",
      "\n",
      "    Last Name  Designation Level     Bonus  \n",
      "3   Luxumberg                  2       0.0  \n",
      "4   Luxumberg                  1       0.0  \n",
      "8       Adgra                  3       0.0  \n",
      "9       Adgra                  3       0.0  \n",
      "10      Adgra                  3  150000.0  \n"
     ]
    }
   ],
   "source": [
    "#TASK 10\n",
    "\n",
    "import pandas as pd\n",
    "\n",
    "# Load the CSV file with employee details\n",
    "df = pd.read_csv('final_employee_data_promoted.csv')\n",
    "\n",
    "# Filter rows where 'City' column contains the letter 'o' (case-insensitive)\n",
    "filtered_df = df[df['City'].str.contains('o', case=False, na=False)]\n",
    "\n",
    "# Print the filtered DataFrame\n",
    "print(\"Employees from cities containing the letter 'o':\")\n",
    "print(filtered_df)"
   ]
  },
  {
   "cell_type": "code",
   "execution_count": null,
   "metadata": {},
   "outputs": [],
   "source": []
  }
 ],
 "metadata": {
  "kernelspec": {
   "display_name": "Python 3",
   "language": "python",
   "name": "python3"
  },
  "language_info": {
   "codemirror_mode": {
    "name": "ipython",
    "version": 3
   },
   "file_extension": ".py",
   "mimetype": "text/x-python",
   "name": "python",
   "nbconvert_exporter": "python",
   "pygments_lexer": "ipython3",
   "version": "3.6.5"
  }
 },
 "nbformat": 4,
 "nbformat_minor": 2
}
